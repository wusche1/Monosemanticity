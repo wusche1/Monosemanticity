{
 "cells": [
  {
   "cell_type": "code",
   "execution_count": 1,
   "metadata": {},
   "outputs": [
    {
     "name": "stderr",
     "output_type": "stream",
     "text": [
      "C:\\Users\\wusch\\AppData\\Local\\Packages\\PythonSoftwareFoundation.Python.3.10_qbz5n2kfra8p0\\LocalCache\\local-packages\\Python310\\site-packages\\scipy\\__init__.py:169: UserWarning: A NumPy version >=1.18.5 and <1.26.0 is required for this version of SciPy (detected version 1.26.4\n",
      "  warnings.warn(f\"A NumPy version >={np_minversion} and <{np_maxversion}\"\n"
     ]
    }
   ],
   "source": [
    "import os\n",
    "os.environ['KMP_DUPLICATE_LIB_OK'] = 'TRUE'\n",
    "import sys\n",
    "import torch as t\n",
    "from torch import nn, Tensor\n",
    "from torch.distributions.categorical import Categorical\n",
    "from torch.nn import functional as F\n",
    "from dataclasses import dataclass\n",
    "import numpy as np\n",
    "import einops\n",
    "from jaxtyping import Float, Int\n",
    "from typing import Optional, Callable, Union, List, Tuple, Dict\n",
    "from functools import partial\n",
    "from tqdm.notebook import tqdm\n",
    "from dataclasses import dataclass\n",
    "from rich import print as rprint\n",
    "from rich.table import Table\n",
    "from IPython.display import display, HTML\n",
    "from pathlib import Path\n",
    "from scipy.optimize import fsolve\n",
    "#import matplotlib.pyplot as plt\n",
    "\n",
    "# Make sure exercises are in the path\n",
    "sys.path.append(str(Path.cwd().parent))\n",
    "\n",
    "device = t.device(\"cuda\" if t.cuda.is_available() else \"cpu\")\n",
    "\n",
    "from superposition_lib import Config, Model\n"
   ]
  },
  {
   "cell_type": "code",
   "execution_count": 2,
   "metadata": {},
   "outputs": [
    {
     "data": {
      "text/plain": [
       "device(type='cuda')"
      ]
     },
     "execution_count": 2,
     "metadata": {},
     "output_type": "execute_result"
    }
   ],
   "source": [
    "device"
   ]
  },
  {
   "cell_type": "code",
   "execution_count": 2,
   "metadata": {},
   "outputs": [
    {
     "data": {
      "application/vnd.jupyter.widget-view+json": {
       "model_id": "b31abcf6997a4da0a1155fd9fdb608c9",
       "version_major": 2,
       "version_minor": 0
      },
      "text/plain": [
       "  0%|          | 0/10000 [00:00<?, ?it/s]"
      ]
     },
     "metadata": {},
     "output_type": "display_data"
    }
   ],
   "source": [
    "n_features = 80\n",
    "n_hidden = 20\n",
    "\n",
    "inner_goup_distance = 1.\n",
    "group_size = 5\n",
    "p_transfer = 0.9\n",
    "\n",
    "importance = (1.0 ** t.arange(n_features))\n",
    "importance = einops.rearrange(importance, \"features -> () features\")\n",
    "\n",
    "n_instances = 50\n",
    "feature_probability = t.linspace(0.01, 0.9, n_instances)\n",
    "\n",
    "groupings =[ [dict(members=list(range(i, i+group_size)), semantic_distance=inner_goup_distance, p_transfer = p_transfer) for i in range(0, n_features, group_size)] for _ in range(n_instances)]\n",
    "\n",
    "#feature_probability = t.ones(n_instances)*0.001\n",
    "feature_probability = einops.rearrange(feature_probability, \"instances -> instances ()\")\n",
    "\n",
    "cfg = Config(\n",
    "    n_instances = len(feature_probability.squeeze()),\n",
    "    n_features = n_features,\n",
    "    n_hidden = n_hidden,\n",
    ")\n",
    "\n",
    "model = Model(\n",
    "    cfg = cfg,\n",
    "    device = device,\n",
    "    importance = importance,\n",
    "    feature_probability = feature_probability,\n",
    "    groupings = groupings,\n",
    ")\n",
    "model.optimize(steps=10_000)"
   ]
  },
  {
   "cell_type": "code",
   "execution_count": 7,
   "metadata": {},
   "outputs": [],
   "source": [
    "#make a new supfolder of data named experiment_1\n",
    "\n",
    "os.makedirs(\"data/experiment_1\", exist_ok=True)\n",
    "\n",
    "#save the model\n",
    "\n",
    "t.save(model.state_dict(), \"data/experiment_1/model.pth\")\n",
    "# save the feature probabilities\n",
    "t.save(feature_probability, \"data/experiment_1/feature_probability.pth\")\n",
    "# save the groupings\n",
    "t.save(groupings, \"data/experiment_1/groupings.pth\")"
   ]
  },
  {
   "cell_type": "code",
   "execution_count": 8,
   "metadata": {},
   "outputs": [
    {
     "data": {
      "application/vnd.jupyter.widget-view+json": {
       "model_id": "aa288a4884ea4a7ba35f9f30c0850d25",
       "version_major": 2,
       "version_minor": 0
      },
      "text/plain": [
       "  0%|          | 0/10000 [00:00<?, ?it/s]"
      ]
     },
     "metadata": {},
     "output_type": "display_data"
    }
   ],
   "source": [
    "n_features = 80\n",
    "n_hidden = 20\n",
    "\n",
    "inner_goup_distance = 1.\n",
    "group_size = 5\n",
    "\n",
    "importance = (1.0 ** t.arange(n_features))\n",
    "#importance = t.cat([t.tensor([1-0.1*(i+1)/2 for i in range(group_size)])**(j+1) for j in  range(0, n_features, group_size)])\n",
    "importance = einops.rearrange(importance, \"features -> () features\")\n",
    "n_instances = 25\n",
    "p_transfer = t.linspace(0.01, 0.9, n_instances)\n",
    "\n",
    "feature_probability = t.ones(n_instances)*0.4\n",
    "groupings =[[dict(members=list(range(i, i+group_size)), semantic_distance=inner_goup_distance, p_transfer = p_t) for i in range(0, n_features, group_size)] for p_t in p_transfer]\n",
    "\n",
    "#feature_probability = t.ones(n_instances)*0.001\n",
    "feature_probability = einops.rearrange(feature_probability, \"instances -> instances ()\")\n",
    "\n",
    "cfg = Config(\n",
    "    n_instances = len(feature_probability.squeeze()),\n",
    "    n_features = n_features,\n",
    "    n_hidden = n_hidden,\n",
    ")\n",
    "\n",
    "model = Model(\n",
    "    cfg = cfg,\n",
    "    device = device,\n",
    "    importance = importance,\n",
    "    feature_probability = feature_probability,\n",
    "    groupings = groupings,\n",
    ")\n",
    "model.optimize(steps=10_000)"
   ]
  },
  {
   "cell_type": "code",
   "execution_count": 9,
   "metadata": {},
   "outputs": [],
   "source": [
    "#make a new supfolder of data named experiment_1\n",
    "\n",
    "os.makedirs(\"data/experiment_2\", exist_ok=True)\n",
    "\n",
    "#save the model\n",
    "\n",
    "t.save(model.state_dict(), \"data/experiment_2/model.pth\")\n",
    "# save the feature probabilities\n",
    "t.save(p_transfer, \"data/experiment_2/p_transfer.pth\")\n",
    "# save the groupings\n",
    "t.save(groupings, \"data/experiment_2/groupings.pth\")"
   ]
  },
  {
   "cell_type": "code",
   "execution_count": 2,
   "metadata": {},
   "outputs": [
    {
     "data": {
      "application/vnd.jupyter.widget-view+json": {
       "model_id": "6904c92bb349457dbeae08bb612df605",
       "version_major": 2,
       "version_minor": 0
      },
      "text/plain": [
       "  0%|          | 0/10000 [00:00<?, ?it/s]"
      ]
     },
     "metadata": {},
     "output_type": "display_data"
    }
   ],
   "source": [
    "n_features = 80\n",
    "n_hidden = 20\n",
    "group_size = 5\n",
    "\n",
    "importance = (1.0 ** t.arange(n_features))\n",
    "#importance = t.cat([t.tensor([1-0.1*(i+1)/2 for i in range(group_size)])**(j+1) for j in  range(0, n_features, group_size)])\n",
    "importance = einops.rearrange(importance, \"features -> () features\")\n",
    "p_transfer = 0.2\n",
    "\n",
    "n_instances = 25\n",
    "inner_goup_distance = t.logspace(-4, 0, n_instances)\n",
    "\n",
    "feature_probability = t.ones(n_instances)*0.4\n",
    "\n",
    "groupings =[[dict(members=list(range(i, i+group_size)), semantic_distance=igd, p_transfer = p_transfer) for i in range(0, n_features, group_size)] for igd in inner_goup_distance]\n",
    "\n",
    "#feature_probability = t.ones(n_instances)*0.001\n",
    "feature_probability = einops.rearrange(feature_probability, \"instances -> instances ()\")\n",
    "\n",
    "cfg = Config(\n",
    "    n_instances = len(feature_probability.squeeze()),\n",
    "    n_features = n_features,\n",
    "    n_hidden = n_hidden,\n",
    ")\n",
    "\n",
    "model = Model(\n",
    "    cfg = cfg,\n",
    "    device = device,\n",
    "    importance = importance,\n",
    "    feature_probability = feature_probability,\n",
    "    groupings = groupings,\n",
    ")\n",
    "model.optimize(steps=10_000)"
   ]
  },
  {
   "cell_type": "code",
   "execution_count": 3,
   "metadata": {},
   "outputs": [
    {
     "data": {
      "text/plain": [
       "Model()"
      ]
     },
     "execution_count": 3,
     "metadata": {},
     "output_type": "execute_result"
    }
   ],
   "source": [
    "model.to(\"cpu\")"
   ]
  },
  {
   "cell_type": "code",
   "execution_count": 4,
   "metadata": {},
   "outputs": [],
   "source": [
    "#make a new supfolder of data named experiment_1\n",
    "\n",
    "os.makedirs(\"data/experiment_3\", exist_ok=True)\n",
    "\n",
    "#save the model\n",
    "\n",
    "t.save(model.state_dict(), \"data/experiment_3/model.pth\")\n",
    "# save the feature probabilities\n",
    "t.save(inner_goup_distance, \"data/experiment_3/inner_goup_distance.pth\")\n",
    "# save the groupings\n",
    "t.save(groupings, \"data/experiment_3/groupings.pth\")"
   ]
  },
  {
   "cell_type": "code",
   "execution_count": 14,
   "metadata": {},
   "outputs": [],
   "source": [
    "n_instances = 25\n",
    "inner_goup_distance = t.logspace(-2, 1, n_instances)"
   ]
  },
  {
   "cell_type": "code",
   "execution_count": 8,
   "metadata": {},
   "outputs": [
    {
     "data": {
      "text/plain": [
       "tensor([1.0000e-02, 1.3335e-02, 1.7783e-02, 2.3714e-02, 3.1623e-02, 4.2170e-02,\n",
       "        5.6234e-02, 7.4989e-02, 1.0000e-01, 1.3335e-01, 1.7783e-01, 2.3714e-01,\n",
       "        3.1623e-01, 4.2170e-01, 5.6234e-01, 7.4989e-01, 1.0000e+00, 1.3335e+00,\n",
       "        1.7783e+00, 2.3714e+00, 3.1623e+00, 4.2170e+00, 5.6234e+00, 7.4989e+00,\n",
       "        1.0000e+01])"
      ]
     },
     "execution_count": 8,
     "metadata": {},
     "output_type": "execute_result"
    }
   ],
   "source": [
    "plot_features_in_Nd(\n",
    "    model.W,\n",
    "    height = 600,\n",
    "    width = 1400,\n",
    "    title = \"ReLU output model: n_features = 80, d_hidden = 20, I<sub>i</sub> = 0.9<sup>i</sup>\",\n",
    "    subplot_titles = [f\"p<sub>transfer</sub> = {p_t}\" for p_t in p_transfer],\n",
    ")"
   ]
  }
 ],
 "metadata": {
  "kernelspec": {
   "display_name": ".venv",
   "language": "python",
   "name": "python3"
  },
  "language_info": {
   "codemirror_mode": {
    "name": "ipython",
    "version": 3
   },
   "file_extension": ".py",
   "mimetype": "text/x-python",
   "name": "python",
   "nbconvert_exporter": "python",
   "pygments_lexer": "ipython3",
   "version": "3.10.11"
  }
 },
 "nbformat": 4,
 "nbformat_minor": 2
}
