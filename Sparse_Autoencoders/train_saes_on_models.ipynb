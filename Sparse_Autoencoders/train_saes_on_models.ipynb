{
 "cells": [
  {
   "cell_type": "code",
   "execution_count": 1,
   "metadata": {},
   "outputs": [
    {
     "name": "stderr",
     "output_type": "stream",
     "text": [
      "C:\\Users\\wusch\\AppData\\Local\\Packages\\PythonSoftwareFoundation.Python.3.10_qbz5n2kfra8p0\\LocalCache\\local-packages\\Python310\\site-packages\\scipy\\__init__.py:169: UserWarning: A NumPy version >=1.18.5 and <1.26.0 is required for this version of SciPy (detected version 1.26.4\n",
      "  warnings.warn(f\"A NumPy version >={np_minversion} and <{np_maxversion}\"\n"
     ]
    }
   ],
   "source": [
    "import os\n",
    "os.environ['KMP_DUPLICATE_LIB_OK'] = 'TRUE'\n",
    "import sys\n",
    "import torch as t\n",
    "from torch import nn, Tensor\n",
    "from torch.distributions.categorical import Categorical\n",
    "from torch.nn import functional as F\n",
    "from dataclasses import dataclass\n",
    "import numpy as np\n",
    "import einops\n",
    "from jaxtyping import Float, Int\n",
    "from typing import Optional, Callable, Union, List, Tuple, Dict\n",
    "from functools import partial\n",
    "from tqdm.notebook import tqdm\n",
    "from dataclasses import dataclass\n",
    "from rich import print as rprint\n",
    "from rich.table import Table\n",
    "from IPython.display import display, HTML\n",
    "from pathlib import Path\n",
    "from scipy.optimize import fsolve\n",
    "\n",
    "# Make sure exercises are in the path\n",
    "sys.path.append(str(Path.cwd().parent))\n",
    "\n",
    "\n",
    "\n",
    "device = t.device(\"cuda\" if t.cuda.is_available() else \"cpu\")\n",
    "\n",
    "sys.path.append('../Models_of_superposition/')\n",
    "from superposition_lib import Config, get_angle, create_mask_from_group_members, create_diagonal_mask,Model\n",
    "\n",
    "from sae_lib import AutoEncoder, AutoEncoderConfig\n",
    "\n",
    "\n"
   ]
  },
  {
   "cell_type": "code",
   "execution_count": 2,
   "metadata": {},
   "outputs": [
    {
     "data": {
      "text/plain": [
       "<All keys matched successfully>"
      ]
     },
     "execution_count": 2,
     "metadata": {},
     "output_type": "execute_result"
    }
   ],
   "source": [
    "\n",
    "dicts_of_models = t.load(\"../Models_of_superposition/data/experiment_1/model.pth\")\n",
    "feature_probability = t.load(\"../Models_of_superposition/data/experiment_1/feature_probability.pth\")\n",
    "group_size = 5\n",
    "inner_goup_distance = 0.1\n",
    "p_transfer = 0.9\n",
    "n_instances = len(feature_probability)\n",
    "n_features = dicts_of_models[\"W\"].shape[2]\n",
    "n_hidden = dicts_of_models[\"W\"].shape[1]\n",
    "groupings =[[dict(members=list(range(i, i+group_size)), semantic_distance=inner_goup_distance, p_transfer = p_transfer) for i in range(0, n_features, group_size)] for _ in range(n_instances)]\n",
    "cfg = Config(\n",
    "    n_instances = n_instances,\n",
    "    n_features = n_features,\n",
    "    n_hidden = n_hidden,\n",
    ")\n",
    "\n",
    "model = Model(\n",
    "    cfg = cfg,\n",
    "    device = device,\n",
    "    feature_probability = feature_probability,\n",
    "    groupings = groupings,\n",
    ")\n",
    "model.load_state_dict(dicts_of_models)"
   ]
  },
  {
   "cell_type": "code",
   "execution_count": 3,
   "metadata": {},
   "outputs": [],
   "source": [
    "model.feature_probability = t.ones_like(model.feature_probability)*.1\n",
    "model = model.to(device)\n"
   ]
  },
  {
   "cell_type": "code",
   "execution_count": 4,
   "metadata": {},
   "outputs": [],
   "source": [
    "SAE_config = AutoEncoderConfig(n_instances,20,80,l1_coeff = 0.1)\n",
    "SAE = AutoEncoder(SAE_config)"
   ]
  },
  {
   "cell_type": "code",
   "execution_count": 5,
   "metadata": {},
   "outputs": [
    {
     "data": {
      "application/vnd.jupyter.widget-view+json": {
       "model_id": "445663768093474a9323ae4c7e9c9a0d",
       "version_major": 2,
       "version_minor": 0
      },
      "text/plain": [
       "  0%|          | 0/1500 [00:00<?, ?it/s]"
      ]
     },
     "metadata": {},
     "output_type": "display_data"
    }
   ],
   "source": [
    "data_log, loss_log = SAE.optimize(model, steps = 1500)"
   ]
  },
  {
   "cell_type": "code",
   "execution_count": 6,
   "metadata": {},
   "outputs": [],
   "source": [
    "data_path = Path(\"data/sae_3\")\n",
    "data_path.mkdir(exist_ok=True)\n",
    "SAE = SAE.to(\"cpu\")\n",
    "t.save(SAE.state_dict(), data_path / \"SAE_model.pth\")"
   ]
  },
  {
   "cell_type": "code",
   "execution_count": 7,
   "metadata": {},
   "outputs": [],
   "source": [
    "t.save(data_log, data_path / \"SAE_model_data_log.pth\")\n",
    "t.save(loss_log, data_path / \"SAE_model_loss_log.pth\")"
   ]
  },
  {
   "cell_type": "code",
   "execution_count": 6,
   "metadata": {},
   "outputs": [],
   "source": [
    "data_path = Path(\"data\")\n",
    "state_dict = t.load(data_path / \"SAE_model.pth\")"
   ]
  },
  {
   "cell_type": "code",
   "execution_count": 9,
   "metadata": {},
   "outputs": [
    {
     "data": {
      "text/plain": [
       "<All keys matched successfully>"
      ]
     },
     "execution_count": 9,
     "metadata": {},
     "output_type": "execute_result"
    }
   ],
   "source": [
    "SAE.load_state_dict(state_dict)"
   ]
  },
  {
   "cell_type": "code",
   "execution_count": 10,
   "metadata": {},
   "outputs": [
    {
     "data": {
      "text/plain": [
       "AutoEncoder()"
      ]
     },
     "execution_count": 10,
     "metadata": {},
     "output_type": "execute_result"
    }
   ],
   "source": [
    "SAE.to(\"cpu\")"
   ]
  },
  {
   "cell_type": "code",
   "execution_count": null,
   "metadata": {},
   "outputs": [],
   "source": []
  }
 ],
 "metadata": {
  "kernelspec": {
   "display_name": ".venv",
   "language": "python",
   "name": "python3"
  },
  "language_info": {
   "codemirror_mode": {
    "name": "ipython",
    "version": 3
   },
   "file_extension": ".py",
   "mimetype": "text/x-python",
   "name": "python",
   "nbconvert_exporter": "python",
   "pygments_lexer": "ipython3",
   "version": "3.10.11"
  }
 },
 "nbformat": 4,
 "nbformat_minor": 2
}
